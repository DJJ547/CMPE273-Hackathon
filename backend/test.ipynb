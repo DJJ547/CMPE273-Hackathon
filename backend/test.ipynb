{
 "cells": [
  {
   "cell_type": "markdown",
   "metadata": {},
   "source": [
    "creating an retrieval-augmented generation (RAG) setup. using embedding models and LLm to do retrieval system"
   ]
  },
  {
   "cell_type": "code",
   "execution_count": 97,
   "metadata": {},
   "outputs": [
    {
     "name": "stdout",
     "output_type": "stream",
     "text": [
      "Extracting text from PDFs...\n"
     ]
    }
   ],
   "source": [
    "import pdfplumber\n",
    "\n",
    "\n",
    "def extract_text_from_pdf(pdf_path):\n",
    "    with pdfplumber.open(pdf_path) as pdf:\n",
    "        document_sections = []\n",
    "        for page in pdf.pages:\n",
    "            text = page.extract_text()\n",
    "            text_segments = text.split(\"\\n\\n\")  # Split by paragraphs\n",
    "    \n",
    "            for text in text_segments:\n",
    "                if len(text) > 0:\n",
    "                    document_sections.append(text)\n",
    "        \n",
    "    return document_sections\n",
    "\n",
    "print(\"Extracting text from PDFs...\")\n",
    "\n",
    "pdf_path1 = \"./data/SOFI-2023.pdf\"\n",
    "pdf_path2 = \"./data/SOFI-2024.pdf\"\n",
    "\n",
    "document_sections_1 = extract_text_from_pdf(pdf_path1)\n",
    "document_sections_2 = extract_text_from_pdf(pdf_path2)\n",
    "\n",
    "document_sections = document_sections_1 + document_sections_2\n",
    "\n"
   ]
  },
  {
   "cell_type": "code",
   "execution_count": 98,
   "metadata": {},
   "outputs": [],
   "source": [
    "from sentence_transformers import SentenceTransformer\n",
    "\n",
    "# Load a pre-trained model\n",
    "model = SentenceTransformer('all-MiniLM-L6-v2')\n",
    "\n",
    "# Generate embeddings for each section\n",
    "embeddings = model.encode(document_sections)"
   ]
  },
  {
   "cell_type": "code",
   "execution_count": 99,
   "metadata": {},
   "outputs": [],
   "source": [
    "import faiss\n",
    "import numpy as np\n",
    "\n",
    "# Convert embeddings to numpy array\n",
    "embeddings = np.array(embeddings).astype('float32')\n",
    "\n",
    "# Initialize Faiss index\n",
    "dimension = embeddings.shape[1]  # Number of dimensions in the embeddings\n",
    "index = faiss.IndexFlatL2(dimension)\n",
    "index.add(embeddings)"
   ]
  },
  {
   "cell_type": "code",
   "execution_count": 100,
   "metadata": {},
   "outputs": [],
   "source": [
    "from transformers import pipeline"
   ]
  },
  {
   "cell_type": "code",
   "execution_count": 109,
   "metadata": {},
   "outputs": [
    {
     "name": "stderr",
     "output_type": "stream",
     "text": [
      "Hardware accelerator e.g. GPU is available in the environment, but no `device` argument is passed to the `Pipeline` object. Model will be on CPU.\n"
     ]
    }
   ],
   "source": [
    "def search(query, k=3):\n",
    "    query_embedding = model.encode([query]).astype('float32')\n",
    "\n",
    "    # Search for the k most similar embeddings\n",
    "    _, indices = index.search(query_embedding, k)\n",
    "    \n",
    "    # Return the sections\n",
    "    return [document_sections[idx] for idx in indices[0]]\n",
    "\n",
    "qa_pipeline = pipeline(\"question-answering\", model=\"distilbert-base-cased-distilled-squad\")\n",
    "\n",
    "def pipeline1(query, k=3):\n",
    "    answers = []\n",
    "    for section in search(query, k):\n",
    "        result = qa_pipeline(question=query, context=section)\n",
    "        answers.append(result['answer'])\n",
    "    \n",
    "    return ''.join(answers)"
   ]
  },
  {
   "cell_type": "code",
   "execution_count": 117,
   "metadata": {},
   "outputs": [
    {
     "name": "stdout",
     "output_type": "stream",
     "text": [
      "addressing nutrition situation and ability to obtain financingeither on or off the\n",
      "across the rural–urban continuumMore than one country in the region\n",
      "surge in international fertilizer prices\n"
     ]
    }
   ],
   "source": [
    "print(pipeline1(\"Explain increase prices impact on food security\"))"
   ]
  },
  {
   "cell_type": "code",
   "execution_count": null,
   "metadata": {},
   "outputs": [],
   "source": []
  },
  {
   "cell_type": "code",
   "execution_count": null,
   "metadata": {},
   "outputs": [],
   "source": []
  }
 ],
 "metadata": {
  "kernelspec": {
   "display_name": "Python 3",
   "language": "python",
   "name": "python3"
  },
  "language_info": {
   "codemirror_mode": {
    "name": "ipython",
    "version": 3
   },
   "file_extension": ".py",
   "mimetype": "text/x-python",
   "name": "python",
   "nbconvert_exporter": "python",
   "pygments_lexer": "ipython3",
   "version": "3.11.5"
  }
 },
 "nbformat": 4,
 "nbformat_minor": 2
}
